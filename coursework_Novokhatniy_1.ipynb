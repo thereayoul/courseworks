{
 "cells": [
  {
   "cell_type": "code",
   "execution_count": 15,
   "id": "574b4f0d",
   "metadata": {},
   "outputs": [],
   "source": [
    "import pandas as pd\n",
    "import numpy as np\n",
    "import seaborn as sns\n",
    "import scipy.stats as sts\n",
    "from statistics import mean\n",
    "import matplotlib.pyplot as plt\n",
    "from math import sqrt, log, log2, isnan\n",
    "import math"
   ]
  },
  {
   "cell_type": "markdown",
   "id": "c19cbd82",
   "metadata": {},
   "source": [
    "# Количество торговых дней"
   ]
  },
  {
   "cell_type": "markdown",
   "id": "f0bc0e47",
   "metadata": {},
   "source": [
    "КОД 1"
   ]
  },
  {
   "cell_type": "code",
   "execution_count": 2,
   "id": "6404efe8",
   "metadata": {},
   "outputs": [
    {
     "name": "stdout",
     "output_type": "stream",
     "text": [
      "Empty DataFrame\n",
      "Columns: []\n",
      "Index: [AAPL, BCO.HM, COP, EBAY, FDX, GM, HAL, HON, HPQ, IBM, INTC, KO, MA, MCD, ORCL]\n"
     ]
    }
   ],
   "source": [
    "dataset = ['AAPL','BCO.HM','COP','EBAY','FDX','GM','HAL','HON','HPQ','IBM','INTC','KO','MA','MCD','ORCL']\n",
    "SandP100 = pd.DataFrame(index = dataset)\n",
    "print(SandP100)"
   ]
  },
  {
   "cell_type": "code",
   "execution_count": 3,
   "id": "1279f81b",
   "metadata": {},
   "outputs": [
    {
     "name": "stdout",
     "output_type": "stream",
     "text": [
      "        2012  2013  2014  2015  2016  2017  2018  2019  2020  2021\n",
      "AAPL     250   252   252   252   252   251   251   252   253   251\n",
      "BCO.HM   248   253   253   254   255   255   252   251   254   255\n",
      "COP      250   252   252   252   252   251   251   252   253   251\n",
      "EBAY     250   252   252   252   252   251   251   252   253   251\n",
      "FDX      250   252   252   252   252   251   251   252   253   251\n",
      "GM       250   252   252   252   252   251   251   252   253   251\n",
      "HAL      250   252   252   252   252   251   251   252   253   251\n",
      "HON      250   252   252   252   252   251   251   252   253   251\n",
      "HPQ      250   252   252   252   252   251   251   252   253   251\n",
      "IBM      250   252   252   252   252   251   251   252   253   251\n",
      "INTC     250   252   252   252   252   251   251   252   253   251\n",
      "KO       250   252   252   252   252   251   251   252   253   251\n",
      "MA       250   252   252   252   252   251   251   252   253   251\n",
      "MCD      250   252   252   252   252   251   251   252   253   251\n",
      "ORCL     250   252   252   252   252   251   251   252   253   251\n"
     ]
    }
   ],
   "source": [
    "for x in range(2012,2022):\n",
    "    years=[]\n",
    "    for i in range(len(dataset)):\n",
    "        df = pd.read_csv('D:/curs/'+dataset[i]+'.csv', delimiter=',')\n",
    "        year = (df['Date']>=str(x) + '-01-01') & (df['Date'] < str(x+1) + '-01-01')\n",
    "        years.append(len(df[year]))\n",
    "    SandP100[str(x)] = years\n",
    "print(SandP100)"
   ]
  },
  {
   "cell_type": "markdown",
   "id": "6dd2bf00",
   "metadata": {},
   "source": [
    "# Cкачки цен"
   ]
  },
  {
   "cell_type": "markdown",
   "id": "c17c6c83",
   "metadata": {},
   "source": [
    "КОД 2"
   ]
  },
  {
   "cell_type": "code",
   "execution_count": 4,
   "id": "586d53d6",
   "metadata": {},
   "outputs": [],
   "source": [
    "dataset = ['AAPL','COP','EBAY','FDX','GM','HAL','HON','HPQ','IBM','INTC','KO','MA','MCD','ORCL']\n",
    "SandPmin = pd.DataFrame(index = dataset)\n",
    "SandPmax = pd.DataFrame(index = dataset)"
   ]
  },
  {
   "cell_type": "code",
   "execution_count": 5,
   "id": "08b007ea",
   "metadata": {},
   "outputs": [],
   "source": [
    "for yea in range(2012,2022):\n",
    "    tiket = pd.read_csv('D:/curs/AAPL.csv', delimiter=',')\n",
    "    year = (tiket['Date']>=str(yea) + '-01-01') & (tiket['Date'] < str(yea+1) + '-01-01')\n",
    "    valmin = 0\n",
    "    valmax = 0\n",
    "    for tik in range(len(tiket['Date'])):\n",
    "        if year[tik]:\n",
    "            val = (tiket['Close'][tik] - tiket['Open'][tik]) / tiket['Open'][tik] * 100\n",
    "            if round(val,5) > valmax:\n",
    "                valmax = round(val,2)\n",
    "            if round(val,5) < valmin:\n",
    "                valmin = round(val,2)\n",
    "    SandPmax[yea] = [valmax,0,0,0,0,0,0,0,0,0,0,0,0,0]\n",
    "    SandPmin[yea] = [valmin,0,0,0,0,0,0,0,0,0,0,0,0,0]"
   ]
  },
  {
   "cell_type": "code",
   "execution_count": 6,
   "id": "4022378f",
   "metadata": {},
   "outputs": [],
   "source": [
    "for y in range(len(dataset)):\n",
    "    tiket = pd.read_csv('D:/curs/'+dataset[y]+'.csv', delimiter=',')\n",
    "    for yea in range(2012,2022):\n",
    "        valmin = 0\n",
    "        valmax = 0\n",
    "        year = (tiket['Date']>=str(yea) + '-01-01') & (tiket['Date'] < str(yea+1) + '-01-01')\n",
    "        for tik in range(len(tiket['Date'])):\n",
    "            if year[tik]:\n",
    "                val = (tiket['Close'][tik] - tiket['Open'][tik]) / tiket['Open'][tik] * 100\n",
    "                if round(val,5) > valmax:\n",
    "                    valmax = round(val,2)\n",
    "                if round(val,5) < valmin:\n",
    "                    valmin = round(val,2)\n",
    "        SandPmax[yea][dataset[y]] = valmax\n",
    "        SandPmin[yea][dataset[y]] = valmin"
   ]
  },
  {
   "cell_type": "code",
   "execution_count": 7,
   "id": "bb7d2f7b",
   "metadata": {},
   "outputs": [
    {
     "name": "stdout",
     "output_type": "stream",
     "text": [
      "      2012  2013  2014   2015   2016  2017  2018  2019   2020  2021\n",
      "AAPL  5.31  3.96  3.72   8.70   3.08  2.67  5.98  3.95   6.26  3.32\n",
      "COP   2.78  1.93  4.37   7.59   7.76  3.99  6.62  4.43  16.22  5.13\n",
      "EBAY  4.96  4.19  4.43   6.25   4.01  3.60  5.69  4.34   6.58  7.84\n",
      "FDX   4.59  4.56  2.61   2.64   4.34  3.29  3.99  3.62  12.98  3.30\n",
      "GM    7.43  5.32  3.70   5.07   5.82  4.19  5.61  3.93   9.27  5.82\n",
      "HAL   5.23  6.39  4.64   6.61  11.09  3.89  4.43  8.04  11.99  6.47\n",
      "HON   3.32  2.70  3.18   3.40   2.77  1.98  3.64  2.39   8.65  3.62\n",
      "HPQ   4.63  8.81  7.09  10.91   5.35  6.60  5.54  3.50  15.52  5.46\n",
      "IBM   2.23  2.67  3.33   3.03   2.87  2.65  4.21  5.00   6.00  3.98\n",
      "INTC  4.01  3.03  5.30   6.63   2.68  2.67  4.98  4.19  12.78  5.79\n",
      "KO    2.02  2.34  2.74   2.10   2.46  2.67  2.86  2.30   7.15  2.25\n",
      "MA    3.92  4.47  6.10   3.15   9.31  1.89  5.93  3.36   9.80  4.09\n",
      "MCD   2.98  2.06  3.06   3.95   2.58  2.58  4.31  1.86  10.58  3.19\n",
      "ORCL  3.09  3.04  4.10   3.30   2.65  8.57  4.37  3.00   8.84  3.95\n"
     ]
    }
   ],
   "source": [
    "print(SandPmax)"
   ]
  },
  {
   "cell_type": "code",
   "execution_count": 8,
   "id": "15be1b64",
   "metadata": {},
   "outputs": [
    {
     "name": "stdout",
     "output_type": "stream",
     "text": [
      "       2012  2013  2014  2015  2016  2017  2018  2019   2020  2021\n",
      "AAPL  -5.29 -4.16 -4.03 -6.63 -2.97 -4.00 -4.04 -3.24  -7.26 -3.92\n",
      "COP   -2.89 -2.70 -3.03 -6.29 -8.40 -3.16 -5.75 -4.19  -8.44 -5.37\n",
      "EBAY  -3.77 -3.98 -3.00 -4.02 -4.67 -3.61 -5.14 -4.19  -6.51 -5.34\n",
      "FDX   -3.72 -3.03 -3.29 -5.04 -3.71 -3.53 -6.20 -4.03  -7.17 -3.33\n",
      "GM    -4.13 -3.44 -4.92 -6.58 -4.21 -3.89 -4.55 -3.92 -10.78 -4.74\n",
      "HAL   -4.65 -3.90 -6.99 -5.16 -4.57 -5.64 -5.09 -5.61 -17.53 -6.12\n",
      "HON   -2.93 -2.26 -2.72 -4.49 -2.66 -2.68 -3.79 -3.41  -6.94 -3.03\n",
      "HPQ  -13.46 -4.22 -4.11 -5.48 -4.97 -6.13 -6.35 -9.57  -8.68 -4.72\n",
      "IBM   -2.85 -2.93 -3.04 -4.07 -3.85 -2.36 -4.22 -3.04  -6.36 -4.69\n",
      "INTC  -2.92 -2.81 -2.98 -4.33 -3.16 -2.85 -5.59 -3.60  -6.15 -6.82\n",
      "KO    -1.81 -2.83 -2.16 -2.91 -2.67 -1.83 -3.77 -2.38  -8.70 -2.79\n",
      "MA    -3.68 -2.75 -4.27 -4.41 -4.91 -4.33 -6.04 -4.96 -10.42 -6.24\n",
      "MCD   -2.69 -1.74 -2.75 -4.46 -4.35 -2.42 -4.06 -2.84  -5.98 -2.54\n",
      "ORCL  -4.73 -2.71 -3.37 -4.11 -3.52 -3.77 -4.68 -2.79  -6.11 -4.96\n"
     ]
    }
   ],
   "source": [
    "print(SandPmin)"
   ]
  },
  {
   "cell_type": "markdown",
   "id": "6f6e42d7",
   "metadata": {},
   "source": [
    "# График акций"
   ]
  },
  {
   "cell_type": "markdown",
   "id": "b1978704",
   "metadata": {},
   "source": [
    "КОД 3"
   ]
  },
  {
   "cell_type": "code",
   "execution_count": 10,
   "id": "d8609704",
   "metadata": {},
   "outputs": [
    {
     "data": {
      "image/png": "[encoded data removed]",
      "text/plain": [
       "<Figure size 1152x576 with 1 Axes>"
      ]
     },
     "metadata": {
      "needs_background": "light"
     },
     "output_type": "display_data"
    }
   ],
   "source": [
    "df = pd.read_csv('D:/curs/COP.csv', delimiter=',')\n",
    "graph_cop = pd.DataFrame()\n",
    "graph_cop['date'] = df['Date']\n",
    "graph_cop['close'] = df['Close']\n",
    "year = (df['Date']>='2012-01-01') & (df['Date'] < '2022-01-01')\n",
    "y = graph_cop['close']\n",
    "x = np.linspace(2012, 2022, len(y))\n",
    "fig, ax = plt.subplots(figsize=(16,8))\n",
    "plt.grid(True) # линия сетки\n",
    "plt.plot(x,y)\n",
    "plt.ylabel('Цена, руб.')\n",
    "plt.xlabel('Год')\n",
    "plt.title('Рис.1. График цен COP')\n",
    "plt.show()"
   ]
  },
  {
   "cell_type": "code",
   "execution_count": 11,
   "id": "14a3217a",
   "metadata": {},
   "outputs": [
    {
     "data": {
      "image/png": "[encoded data removed]",
      "text/plain": [
       "<Figure size 1152x576 with 1 Axes>"
      ]
     },
     "metadata": {
      "needs_background": "light"
     },
     "output_type": "display_data"
    }
   ],
   "source": [
    "df = pd.read_csv('D:/curs/HAL.csv', delimiter=',')\n",
    "graph_hal = pd.DataFrame()\n",
    "graph_hal['date'] = df['Date']\n",
    "graph_hal['close'] = df['Close']\n",
    "year = (df['Date']>='2012-01-01') & (df['Date'] < '2022-01-01')\n",
    "y = graph_hal['close']\n",
    "x = np.linspace(2012, 2022, len(y))\n",
    "fig, ax = plt.subplots(figsize=(16,8))\n",
    "plt.grid(True) # линия сетки\n",
    "plt.plot(x,y)\n",
    "plt.ylabel('Цена, руб.')\n",
    "plt.xlabel('Год')\n",
    "plt.title('Рис.2. График цен HAL')\n",
    "plt.show()"
   ]
  },
  {
   "cell_type": "markdown",
   "id": "c434b9da",
   "metadata": {},
   "source": [
    "# проверка гипотез на модельных данных"
   ]
  },
  {
   "cell_type": "markdown",
   "id": "6cd5ee7b",
   "metadata": {},
   "source": [
    "Квантили"
   ]
  },
  {
   "cell_type": "markdown",
   "id": "870e5ac4",
   "metadata": {},
   "source": [
    "КОД 4"
   ]
  },
  {
   "cell_type": "code",
   "execution_count": 12,
   "id": "3b8a717d",
   "metadata": {},
   "outputs": [],
   "source": [
    "# функция,возвращающая мат. ожидаение, дисперсия, массив элементов в интервалах и список центральных точек отрезков разбиения\n",
    "def ozenka(massive):\n",
    "    # упорядочивает сгенерированную выборку\n",
    "    massive = sorted(massive)\n",
    "    n = len(massive)\n",
    "    k = int(math.log2(n)) + 1 # по формуле Стерджесса расчитывает количество интервалов разбиения выборки\n",
    "    step = (max(massive)-min(massive))/k #шаг разбиения \n",
    "    centre = [min(massive)] # список который будет собирать центральные точки отрезков разбиения (первая точка в разбиении - минимум выборки)\n",
    "    razb_otrez = [] # список, который будет собирать разбитые на отрезки данные \n",
    "    razb_otrez.append([x for x in massive if x < centre[-1]+step/2])\n",
    "    for i in range(2, k):\n",
    "        centre.append(centre[0]+(i-1)*step)\n",
    "        razb_otrez.append([x for x in massive if centre[-1]-0.5*step < x < centre[-1]+0.5*step])\n",
    "    centre.append(centre[0]+(k-1)*step)\n",
    "    razb_otrez.append([x for x in massive if x > centre[-1]-0.5*step])\n",
    "    \n",
    "    math_wa = sum(massive)/n # мат ожидание\n",
    "    summa = 0\n",
    "    for i in range(n):\n",
    "        summa += (massive[i] - math_wa)**2\n",
    "    dispar = summa/n #дисперсия\n",
    "\n",
    "    # список частот (количество элементов в интервалах)\n",
    "    kolvo = [len(x) for x in razb_otrez]\n",
    "    \n",
    " \n",
    " # возвращаем мат. ожидание, дисперсию, массив элементов в интервалах, список центральных точек отрезков разбиений\n",
    "    return math_wa, dispar, kolvo, centre"
   ]
  },
  {
   "cell_type": "code",
   "execution_count": 13,
   "id": "74c0eee5",
   "metadata": {},
   "outputs": [],
   "source": [
    "def Pirson(n):\n",
    "    # генерируем нормальную выборку\n",
    "    viborka = sts.norm(0, 1).rvs(n)\n",
    "    m = int(math.log2(n)) + 1 # по формуле Стерджесса расчитывает количество интервалов разбиения выборки\n",
    "    step = max(viborka)-min(viborka)\n",
    "    step = step/m # шаг разбиения \n",
    "    asdfgh = ozenka(viborka) # получение нужных данных при помощи функции ozenka\n",
    "    M = asdfgh[0]\n",
    "    Disp = asdfgh[1]\n",
    "    kolvo = asdfgh[2]\n",
    "    centre = asdfgh[3]# считывание необходимых данных для критерия Пирсона\n",
    "    Exp = sts.norm(M, math.sqrt(Disp)) # ожидаемое распределение (то, с которой будем сравнивать рандомную выборку)\n",
    "    \n",
    "    # составляем список вероятностей попадания в интервалы, на которые разбиваем интервалы\n",
    "    Prob = [Exp.cdf(centre[0]+0.5*step)]\n",
    "    for i in range(1, len(centre)-1): # функция cdf вычисляет вероятность попадания случайной величины в исселдуемый промежуток\n",
    "        Prob.append(Exp.cdf(centre[i]+0.5*step) - Exp.cdf(centre[i]-0.5*step))\n",
    "    Prob.append(1-Exp.cdf(centre[-1]-0.5*step))\n",
    "\n",
    "    # высчитываем статистику критерия Пирсона\n",
    "    chi = []\n",
    "    for i in range(len(Prob)):\n",
    "        chi.append(((kolvo[i]-n*Prob[i])**2)/(n*Prob[i])) # формула\n",
    "    Xi_square = sum(chi)\n",
    "    \n",
    "    # вычисляем p-значение\n",
    "    p_value = (sts.chi2(len(kolvo)-3).sf(Xi_square)) # функция chi2. вычитаем 3 из-за количества степеней свободы\n",
    "    # возвращаем статистику критерия Пирсона и p-value\n",
    "    return Xi_square, p_value"
   ]
  },
  {
   "cell_type": "code",
   "execution_count": 16,
   "id": "8103d962",
   "metadata": {},
   "outputs": [],
   "source": [
    "N = 10000 \n",
    "# создаём пустые таблицы для 9 и 999 квантилей \n",
    "df_9 = pd.DataFrame(index = [i for i in range(1,10)])\n",
    "df_999 = pd.DataFrame(index = [i for i in range(1,1000)])\n",
    "# создаём списки значений статистики и p-value\n",
    "xi = []\n",
    "p_value = []\n",
    "# вычисляем 10000 значений статистики по критерию пирсона\n",
    "for statist in range(N):\n",
    "    current_pirs = Pirson(252)\n",
    " \n",
    "    xi.append(current_pirs[0])\n",
    "    p_value.append(current_pirs[1])\n",
    "    \n",
    "\n",
    "# подсчет 9 и 999 квантилей\n",
    "xi2_q9 = np.quantile(xi, np.arange(0.1, 1, 0.1))\n",
    "xi2_q999 = np.quantile(xi, np.arange(0.001, 1, 0.001))\n",
    " \n",
    "# запись в таблицы квантилей и их значений\n",
    "df_9['quantile'] = [round(i, 3) for i in list(np.arange(0.1, 1, 0.1))]\n",
    "df_999['quantile'] = [round(i, 3) for i in list(np.arange(0.001, 1, 0.001))]\n",
    "df_9['value'] = np.round(xi2_q9, 4)\n",
    "df_999['value'] = np.round(xi2_q999, 4)\n",
    "\n",
    "\n",
    "# сохранение таблиц в csv файлы"
   ]
  },
  {
   "cell_type": "code",
   "execution_count": 17,
   "id": "d0927b79",
   "metadata": {},
   "outputs": [
    {
     "name": "stdout",
     "output_type": "stream",
     "text": [
      "   quantile    value\n",
      "1       0.1   1.8155\n",
      "2       0.2   2.5795\n",
      "3       0.3   3.2685\n",
      "4       0.4   3.9765\n",
      "5       0.5   4.7254\n",
      "6       0.6   5.5218\n",
      "7       0.7   6.5644\n",
      "8       0.8   8.0751\n",
      "9       0.9  10.3968\n"
     ]
    }
   ],
   "source": [
    "print(df_9)"
   ]
  },
  {
   "cell_type": "code",
   "execution_count": 18,
   "id": "45556bde",
   "metadata": {},
   "outputs": [
    {
     "name": "stdout",
     "output_type": "stream",
     "text": [
      "     quantile    value\n",
      "1       0.001   0.3288\n",
      "2       0.002   0.3806\n",
      "3       0.003   0.4512\n",
      "4       0.004   0.5015\n",
      "5       0.005   0.5395\n",
      "..        ...      ...\n",
      "995     0.995  30.0160\n",
      "996     0.996  33.0287\n",
      "997     0.997  42.0689\n",
      "998     0.998  59.0453\n",
      "999     0.999  85.4044\n",
      "\n",
      "[999 rows x 2 columns]\n"
     ]
    }
   ],
   "source": [
    "print(df_999)"
   ]
  },
  {
   "cell_type": "markdown",
   "id": "59c42c27",
   "metadata": {},
   "source": [
    "Гистограммы"
   ]
  },
  {
   "cell_type": "markdown",
   "id": "34b1fb86",
   "metadata": {},
   "source": [
    "КОД 5"
   ]
  },
  {
   "cell_type": "code",
   "execution_count": 19,
   "id": "83dea2c9",
   "metadata": {},
   "outputs": [
    {
     "name": "stdout",
     "output_type": "stream",
     "text": [
      "P-value = 0.266\n"
     ]
    },
    {
     "data": {
      "image/png": "[encoded data removed]",
      "text/plain": [
       "<Figure size 432x288 with 1 Axes>"
      ]
     },
     "metadata": {
      "needs_background": "light"
     },
     "output_type": "display_data"
    }
   ],
   "source": [
    "n = 252\n",
    "N = 10000\n",
    "xi2 = []\n",
    "chi_square = []\n",
    "for p in range(10000):\n",
    "    chi_square.append(Pirson(n)[0])\n",
    "chi_square_q999 = np.quantile(chi_square, np.arange(0.001, 1, 0.001))\n",
    "p_value_pirs_list = [] # список p-значений критерия Пирсона вычисленных вручную\n",
    "for pp in range(10000):\n",
    "    lenn = 0\n",
    "    xx = Pirson(n)[0]\n",
    "    for p in range(len(chi_square_q999)):\n",
    "        if chi_square_q999[p] > xx:\n",
    "            lenn += 1 \n",
    "    p_value_pirs_list.append(lenn/len(chi_square_q999))\n",
    "    \n",
    "\n",
    "p_value_ks_list = [] #cоздаем cписок p-значений критерия Колмогорова - Смирнова\n",
    "n = 250\n",
    "for p in range(10000):\n",
    "    list_norm = sts.norm(0, 1).rvs(n)\n",
    "    p_value_ks_list.append(sts.kstest(list_norm,'norm')[1])\n",
    "    \n",
    "sns.histplot(p_value_ks_list, bins = 20, stat = 'density', kde = True)\n",
    "\n",
    "sns.histplot(p_value_pirs_list, bins = 20, stat = 'density', kde = True)\n",
    "\n",
    "# cделаем проверку, что распределения p-значений близки друг к другу и выведем P-value двух выборок\n",
    "p_value = sts.ks_2samp(p_value_ks_list,p_value_pirs_list)\n",
    "print(\"P-value =\",round(p_value[1],3))"
   ]
  },
  {
   "cell_type": "code",
   "execution_count": 20,
   "id": "c1444f31",
   "metadata": {},
   "outputs": [
    {
     "data": {
      "text/plain": [
       "<AxesSubplot:ylabel='Density'>"
      ]
     },
     "execution_count": 20,
     "metadata": {},
     "output_type": "execute_result"
    },
    {
     "data": {
      "image/png": "[encoded data removed]",
      "text/plain": [
       "<Figure size 432x288 with 1 Axes>"
      ]
     },
     "metadata": {
      "needs_background": "light"
     },
     "output_type": "display_data"
    }
   ],
   "source": [
    "sns.histplot(p_value_ks_list, bins = 20, stat = 'density', kde = True)"
   ]
  },
  {
   "cell_type": "code",
   "execution_count": 21,
   "id": "942b7395",
   "metadata": {},
   "outputs": [
    {
     "data": {
      "text/plain": [
       "<AxesSubplot:ylabel='Density'>"
      ]
     },
     "execution_count": 21,
     "metadata": {},
     "output_type": "execute_result"
    },
    {
     "data": {
      "image/png": "[encoded data removed]",
      "text/plain": [
       "<Figure size 432x288 with 1 Axes>"
      ]
     },
     "metadata": {
      "needs_background": "light"
     },
     "output_type": "display_data"
    }
   ],
   "source": [
    "sns.histplot(p_value_pirs_list, bins = 20, stat = 'density', kde = True)"
   ]
  },
  {
   "cell_type": "markdown",
   "id": "4a97bbe1",
   "metadata": {},
   "source": [
    "# Альтернативная гипотеза"
   ]
  },
  {
   "cell_type": "markdown",
   "id": "de000dbc",
   "metadata": {},
   "source": [
    "таблица мощности критерия"
   ]
  },
  {
   "cell_type": "markdown",
   "id": "d003706f",
   "metadata": {},
   "source": [
    "КОД 6"
   ]
  },
  {
   "cell_type": "code",
   "execution_count": 22,
   "id": "d0685d0f",
   "metadata": {},
   "outputs": [],
   "source": [
    "N = 1000\n",
    "n = 252\n",
    "df = pd.DataFrame()\n",
    "p_value_pirs = [] #список р-значений критерия пирсона\n",
    "for i in range(1000):\n",
    "    massive = sts.t(3).rvs(n) # сгенерируем выборку распределения Стьюдента с 3 степенями свободы\n",
    "    k = 1 + int(math.log2(n)) \n",
    "    step = max(massive)-min(massive)\n",
    "    step = step / k\n",
    "    asdfgh = ozenka(massive)\n",
    "    M = asdfgh[0]\n",
    "    Disp = asdfgh[1]\n",
    "    kolvo = asdfgh[2]\n",
    "    centre = asdfgh[3]\n",
    "    Exp = sts.norm(M, math.sqrt(Disp))\n",
    "    Prob = [Exp.cdf(centre[0]+0.5*step)]\n",
    "    for i in range(1, len(centre)-1): # функция cdf вычисляет вероятность попадания случайной величины в исселдуемый промежуток\n",
    "        Prob.append(Exp.cdf(centre[i]+0.5*step) - Exp.cdf(centre[i]-0.5*step))\n",
    "    Prob.append(1-Exp.cdf(centre[-1]-0.5*step))\n",
    "    T = []\n",
    "    for i in range(len(Prob)):\n",
    "        if Prob[i] == 0:\n",
    "            continue\n",
    "        T.append(((kolvo[i]-n*Prob[i])**2)/(n*Prob[i]))\n",
    "    xi_2 = sum(T)\n",
    "    p_value_pirs.append(sts.chi2(len(kolvo)-3).sf(xi_2))\n",
    "# отбираем p-value меньше 0.05 \n",
    "PV = [v for v in p_value_pirs if v < 0.05 or math.isnan(v)]\n",
    "# запись мощности критерия в таблицу\n",
    "df['3'] = [len(PV)/1000]"
   ]
  },
  {
   "cell_type": "code",
   "execution_count": 23,
   "id": "c4860939",
   "metadata": {},
   "outputs": [],
   "source": [
    "p_value = [] #список p-value критерия Пирсона\n",
    "for i in range(N):\n",
    "    # генерируем выборку нужного объема распределения Стьюдента\n",
    "    massive = sts.t(30).rvs(n)\n",
    "    # данный кусок кода поясняется выше \n",
    "    k = 1+int(math.log2(n)) \n",
    "    step = (max(massive)-min(massive))/k\n",
    "    func = ozenka(massive)\n",
    "    M, Disp, centre, kolvo = func[0], func[1], func[3], func[2]\n",
    "    Exp = sts.norm(M, math.sqrt(Disp))\n",
    "    Prob = [Exp.cdf(centre[0]+0.5*step)]\n",
    "    for i in range(1, len(centre)-1): # функция cdf вычисляет вероятность попадания случайной величины в исселдуемый промежуток\n",
    "        Prob.append(Exp.cdf(centre[i]+0.5*step) - Exp.cdf(centre[i]-0.5*step))\n",
    "    Prob.append(1-Exp.cdf(centre[-1]-0.5*step))\n",
    "    T = []\n",
    "    for i in range(len(Prob)):\n",
    "        if Prob[i] == 0:\n",
    "            continue\n",
    "        T.append(((kolvo[i]-n*Prob[i])**2)/(n*Prob[i]))\n",
    "    xi_2 = sum(T)\n",
    "    p_value.append(sts.chi2(len(kolvo)-3).sf(xi_2))\n",
    "# отбираем p-value меньше 0.05 \n",
    "PV = [v for v in p_value if v < 0.05 or math.isnan(v)]\n",
    "# запись мощности критерия в таблицу\n",
    "df['30'] = [len(PV)/N]"
   ]
  },
  {
   "cell_type": "code",
   "execution_count": 24,
   "id": "a8e8d345",
   "metadata": {},
   "outputs": [],
   "source": [
    "p_value = [] #список p-value критерия Пирсона\n",
    "for i in range(N):\n",
    "    # генерируем выборку нужного объема распределения Стьюдента\n",
    "    massive = sts.t(300).rvs(n)\n",
    "    # данный кусок кода поясняется выше \n",
    "    k = 1+int(math.log2(n)) \n",
    "    step = (max(massive)-min(massive))/k\n",
    "    func = ozenka(massive)\n",
    "    M, Disp, centre, kolvo = func[0], func[1], func[3], func[2]\n",
    "    Exp = sts.norm(M, math.sqrt(Disp))\n",
    "    Prob = [Exp.cdf(centre[0]+0.5*step)]\n",
    "    for i in range(1, len(centre)-1): # функция cdf вычисляет вероятность попадания случайной величины в исселдуемый промежуток\n",
    "        Prob.append(Exp.cdf(centre[i]+0.5*step) - Exp.cdf(centre[i]-0.5*step))\n",
    "    Prob.append(1-Exp.cdf(centre[-1]-0.5*step))\n",
    "    T = []\n",
    "    for i in range(len(Prob)):\n",
    "        if Prob[i] == 0:\n",
    "            continue\n",
    "        T.append(((kolvo[i]-n*Prob[i])**2)/(n*Prob[i]))\n",
    "    xi_2 = sum(T)\n",
    "    p_value.append(sts.chi2(len(kolvo)-3).sf(xi_2))\n",
    "# отбираем p-value меньше 0.05 \n",
    "PV = [v for v in p_value if v < 0.05 or math.isnan(v)]\n",
    "# запись мощности критерия в таблицу\n",
    "df['300'] = [len(PV)/N]"
   ]
  },
  {
   "cell_type": "code",
   "execution_count": 25,
   "id": "f654c483",
   "metadata": {},
   "outputs": [
    {
     "name": "stdout",
     "output_type": "stream",
     "text": [
      "       3     30    300\n",
      "0  0.986  0.146  0.091\n"
     ]
    }
   ],
   "source": [
    "print(df)"
   ]
  },
  {
   "cell_type": "markdown",
   "id": "5bd622cd",
   "metadata": {},
   "source": [
    "Графики"
   ]
  },
  {
   "cell_type": "markdown",
   "id": "621fd2ac",
   "metadata": {},
   "source": [
    "КОД 7"
   ]
  },
  {
   "cell_type": "code",
   "execution_count": 26,
   "id": "174ab453",
   "metadata": {},
   "outputs": [],
   "source": [
    "n = 252\n",
    "N = 10000\n",
    "df = pd.DataFrame()\n",
    "for lenn in (3,30,300):\n",
    "    p_value = []\n",
    "    for j in range(N):\n",
    "        massive = sts.t(lenn).rvs(n) # генерируем выборку распределения Стьюдента нужного объёма\n",
    "        k = int(math.log2(n)) + 1 # формула Стерджесса\n",
    "        step = (max(massive)-min(massive))/k\n",
    "        function = ozenka(massive)\n",
    "        M, Disp, centre, kolvo = function[0], function[1], function[3], function[2]\n",
    "        Exp = sts.norm(M, math.sqrt(Disp))\n",
    "        Prob = [Exp.cdf(centre[0]+0.5*step)]\n",
    "        for i in range(1, len(centre)-1): # функция cdf вычисляет вероятность попадания случайной величины в исселдуемый промежуток\n",
    "            Prob.append(Exp.cdf(centre[i]+0.5*step) - Exp.cdf(centre[i]-0.5*step))\n",
    "        Prob.append(1-Exp.cdf(centre[-1]-0.5*step))\n",
    "        T = []\n",
    "        for u in range(len(Prob)):\n",
    "            if Prob[u] == 0:\n",
    "                continue\n",
    "            T.append(((kolvo[u]-n*Prob[u])**2)/(n*Prob[u]))\n",
    "        xi2 = sum(T)\n",
    "        p_value.append(sts.chi2(len(kolvo)-3).sf(xi2))\n",
    "    lenn = str(lenn)\n",
    "    df[lenn] = p_value"
   ]
  },
  {
   "cell_type": "code",
   "execution_count": 27,
   "id": "9fcbcf95",
   "metadata": {},
   "outputs": [
    {
     "data": {
      "text/plain": [
       "<AxesSubplot:xlabel='3', ylabel='Density'>"
      ]
     },
     "execution_count": 27,
     "metadata": {},
     "output_type": "execute_result"
    },
    {
     "data": {
      "image/png": "[encoded data removed]",
      "text/plain": [
       "<Figure size 432x288 with 1 Axes>"
      ]
     },
     "metadata": {
      "needs_background": "light"
     },
     "output_type": "display_data"
    }
   ],
   "source": [
    "sns.histplot(df['3'], bins = 20, stat = 'density', kde = True)"
   ]
  },
  {
   "cell_type": "code",
   "execution_count": 28,
   "id": "4783ca16",
   "metadata": {},
   "outputs": [
    {
     "data": {
      "text/plain": [
       "<AxesSubplot:xlabel='30', ylabel='Density'>"
      ]
     },
     "execution_count": 28,
     "metadata": {},
     "output_type": "execute_result"
    },
    {
     "data": {
      "image/png": "[encoded data removed]",
      "text/plain": [
       "<Figure size 432x288 with 1 Axes>"
      ]
     },
     "metadata": {
      "needs_background": "light"
     },
     "output_type": "display_data"
    }
   ],
   "source": [
    "sns.histplot(df['30'], bins = 20, stat = 'density', kde = True)"
   ]
  },
  {
   "cell_type": "code",
   "execution_count": 29,
   "id": "c66a6c17",
   "metadata": {},
   "outputs": [
    {
     "data": {
      "text/plain": [
       "<AxesSubplot:xlabel='300', ylabel='Density'>"
      ]
     },
     "execution_count": 29,
     "metadata": {},
     "output_type": "execute_result"
    },
    {
     "data": {
      "image/png": "[encoded data removed]",
      "text/plain": [
       "<Figure size 432x288 with 1 Axes>"
      ]
     },
     "metadata": {
      "needs_background": "light"
     },
     "output_type": "display_data"
    }
   ],
   "source": [
    "sns.histplot(df['300'], bins = 20, stat = 'density', kde = True)"
   ]
  },
  {
   "cell_type": "markdown",
   "id": "f0e3a18b",
   "metadata": {},
   "source": [
    "# Реальные данные"
   ]
  },
  {
   "cell_type": "markdown",
   "id": "f31926df",
   "metadata": {},
   "source": [
    "ТЕСТЫ"
   ]
  },
  {
   "cell_type": "code",
   "execution_count": 30,
   "id": "311e3fe4",
   "metadata": {},
   "outputs": [
    {
     "name": "stdout",
     "output_type": "stream",
     "text": [
      "      2012  2013  2014  2015  2016  2017  2018  2019  2020  2021\n",
      "AAPL   250   252   252   252   252   251   251   252   253   251\n",
      "COP    250   252   252   252   252   251   251   252   253   251\n",
      "EBAY   250   252   252   252   252   251   251   252   253   251\n",
      "FDX    250   252   252   252   252   251   251   252   253   251\n",
      "GM     250   252   252   252   252   251   251   252   253   251\n",
      "HAL    250   252   252   252   252   251   251   252   253   251\n",
      "HON    250   252   252   252   252   251   251   252   253   251\n",
      "HPQ    250   252   252   252   252   251   251   252   253   251\n",
      "IBM    250   252   252   252   252   251   251   252   253   251\n",
      "INTC   250   252   252   252   252   251   251   252   253   251\n",
      "KO     250   252   252   252   252   251   251   252   253   251\n",
      "MA     250   252   252   252   252   251   251   252   253   251\n",
      "MCD    250   252   252   252   252   251   251   252   253   251\n",
      "ORCL   250   252   252   252   252   251   251   252   253   251\n"
     ]
    }
   ],
   "source": [
    "dataset = ['AAPL','COP','EBAY','FDX','GM','HAL','HON','HPQ','IBM','INTC','KO','MA','MCD','ORCL']\n",
    "SandP100 = pd.DataFrame(index = dataset)\n",
    "for x in range(2012,2022):\n",
    "    years=[]\n",
    "    for i in range(len(dataset)):\n",
    "        df = pd.read_csv('D:/curs/'+dataset[i]+'.csv', delimiter=',')\n",
    "        year = (df['Date']>=str(x) + '-01-01') & (df['Date'] < str(x+1) + '-01-01')\n",
    "        years.append(len(df[year]))\n",
    "    SandP100[str(x)] = years\n",
    "print(SandP100)"
   ]
  },
  {
   "cell_type": "code",
   "execution_count": 36,
   "id": "6e9d271a",
   "metadata": {},
   "outputs": [],
   "source": [
    "SandPlog = pd.DataFrame(index = dataset)\n",
    "for i in range(2012,2022):\n",
    "    df = pd.read_csv('D:/curs/AAPL.csv', delimiter=',')\n",
    "    year = (df['Date']>=str(i) + '-01-01') & (df['Date'] < str(i+1) + '-01-01')\n",
    "    val = 0\n",
    "    for y in range(len(df['Date'])):\n",
    "        if year[y]:\n",
    "            val += log(df['Close'][y]/df['Open'][y])\n",
    "    SandPlog[i] = [val,0,0,0,0,0,0,0,0,0,0,0,0,0]"
   ]
  },
  {
   "cell_type": "code",
   "execution_count": 37,
   "id": "9151e2ec",
   "metadata": {},
   "outputs": [],
   "source": [
    "for y in range(len(dataset)):\n",
    "    df = pd.read_csv('D:/curs/'+dataset[y]+'.csv', delimiter=',')\n",
    "    for x in range(2012,2022):\n",
    "        val = 0\n",
    "        year = (df['Date']>=str(x) + '-01-01') & (df['Date'] < str(x+1) + '-01-01')\n",
    "        for i in range(len(df['Date'])):\n",
    "            if year[i]:\n",
    "                val += log(df['Close'][i]/df['Open'][i])\n",
    "                \n",
    "        SandPlog[x][y] = round(val,3)"
   ]
  },
  {
   "cell_type": "code",
   "execution_count": 38,
   "id": "b90221bd",
   "metadata": {},
   "outputs": [
    {
     "name": "stdout",
     "output_type": "stream",
     "text": [
      "       2012   2013   2014   2015   2016   2017   2018   2019   2020   2021\n",
      "AAPL -0.233 -0.259  0.127 -0.285  0.223  0.203 -0.091  0.457  0.338  0.202\n",
      "COP  -0.027  0.103 -0.103 -0.136  0.111 -0.082 -0.023 -0.107 -0.461  0.211\n",
      "EBAY  0.206 -0.080 -0.048  0.227  0.295  0.123 -0.319  0.042  0.409  0.218\n",
      "FDX   0.154  0.431  0.019 -0.090  0.209  0.081 -0.399  0.205 -0.014 -0.255\n",
      "GM    0.255 -0.025 -0.196 -0.211 -0.042 -0.007 -0.507 -0.018 -0.399 -0.057\n",
      "HAL  -0.106  0.224 -0.435  0.101  0.640 -0.274 -0.503 -0.104 -0.656 -0.092\n",
      "HON   0.141  0.236 -0.069 -0.031  0.221  0.035 -0.256  0.059  0.176 -0.118\n",
      "HPQ  -0.185  0.518  0.225 -0.017  0.508  0.226 -0.158  0.219  0.185  0.266\n",
      "IBM   0.074  0.099  0.053 -0.054  0.307 -0.144 -0.280  0.091 -0.042  0.098\n",
      "INTC -0.030  0.176  0.357  0.257  0.205  0.127 -0.089  0.278  0.129 -0.147\n",
      "KO   -0.044 -0.018  0.266  0.034  0.091  0.150 -0.023  0.037 -0.295 -0.061\n",
      "MA    0.173  0.198 -0.183 -0.033  0.153  0.129 -0.005  0.206 -0.105 -0.279\n",
      "MCD  -0.193  0.116  0.069  0.207  0.047  0.170 -0.079 -0.093  0.154  0.044\n",
      "ORCL  0.168  0.235  0.169 -0.048  0.225  0.115  0.045  0.141  0.206  0.255\n"
     ]
    }
   ],
   "source": [
    "# датафрейм логарифмической доходности за каждый год\n",
    "print(SandPlog)"
   ]
  },
  {
   "cell_type": "markdown",
   "id": "31e19119",
   "metadata": {},
   "source": [
    "таблица p-значений для реальных данных"
   ]
  },
  {
   "cell_type": "markdown",
   "id": "2d4b4930",
   "metadata": {},
   "source": [
    "КОД 8"
   ]
  },
  {
   "cell_type": "code",
   "execution_count": 39,
   "id": "b62e8743",
   "metadata": {},
   "outputs": [],
   "source": [
    "dataset = ['AAPL','COP','EBAY','FDX','GM','HAL','HON','HPQ','IBM','INTC','KO','MA','MCD','ORCL']\n",
    "SandPpirs = pd.DataFrame(index = dataset)\n",
    "for i in range(2012,2022):\n",
    "    SandPpirs[str(i)] = [1,0,0,0,0,0,0,0,0,0,0,0,0,0]\n",
    "for i in range(2012,2022):\n",
    "    SandPpirs[str(i)] = SandPpirs[str(i)].astype(float)"
   ]
  },
  {
   "cell_type": "code",
   "execution_count": 40,
   "id": "efc6fc89",
   "metadata": {},
   "outputs": [
    {
     "name": "stdout",
     "output_type": "stream",
     "text": [
      "       2012   2013   2014   2015   2016   2017   2018   2019   2020   2021\n",
      "AAPL  0.000  0.832  0.002  0.000  0.000  0.000  0.001  0.276  0.011  0.016\n",
      "COP   0.580  0.002  0.013  0.004  0.000  0.985  0.000  0.029  0.000  0.047\n",
      "EBAY  0.625  0.063  0.180  0.001  0.009  0.047  0.239  0.001  0.001  0.004\n",
      "FDX   0.276  0.009  0.015  0.000  0.000  0.000  0.000  0.413  0.000  0.067\n",
      "GM    0.016  0.073  0.010  0.000  0.001  0.003  0.060  0.009  0.000  0.064\n",
      "HAL   0.192  0.038  0.000  0.434  0.000  0.000  0.005  0.323  0.000  0.525\n",
      "HON   0.029  0.661  0.051  0.000  0.003  0.000  0.000  0.000  0.000  0.297\n",
      "HPQ   0.000  0.000  0.000  0.000  0.005  0.000  0.000  0.000  0.000  0.052\n",
      "IBM   0.001  0.003  0.024  0.000  0.000  0.222  0.002  0.000  0.000  0.000\n",
      "INTC  0.982  0.394  0.000  0.000  0.006  0.000  0.098  0.484  0.000  0.000\n",
      "KO    0.281  0.025  0.083  0.010  0.000  0.000  0.000  0.727  0.000  0.005\n",
      "MA    0.409  0.292  0.000  0.000  0.000  0.000  0.000  0.000  0.000  0.000\n",
      "MCD   0.014  0.229  0.000  0.000  0.000  0.000  0.000  0.011  0.000  0.313\n",
      "ORCL  0.000  0.130  0.011  0.000  0.000  0.000  0.000  0.166  0.000  0.000\n"
     ]
    }
   ],
   "source": [
    "p_value_for_hist = []\n",
    "for y in range(len(dataset)):\n",
    "    values = []\n",
    "    df = pd.read_csv('D:/curs/'+dataset[y]+'.csv', delimiter=',')\n",
    "    for x in range(2012,2022):\n",
    "        viborka = []\n",
    "        year = (df['Date']>=str(x) + '-01-01') & (df['Date'] < str(x+1) + '-01-01')\n",
    "        for i in range(len(df['Date'])):\n",
    "            if year[i]:\n",
    "                viborka.append(np.log(df['Close'][i]/df['Open'][i]))\n",
    "                \n",
    "        #подсчет n\n",
    "        year = (df['Date']>=str(x) + '-01-01') & (df['Date'] < str(x+1) + '-01-01')\n",
    "        n = len(df[year])\n",
    "        k = 1 + int(math.log2(n)) \n",
    "        step = max(viborka)-min(viborka)\n",
    "        step = step / k\n",
    "        asdfgh = ozenka(viborka)\n",
    "        M = asdfgh[0]\n",
    "        Disp = asdfgh[1]\n",
    "        kolvo = asdfgh[2]\n",
    "        centre = asdfgh[3]\n",
    "        Exp = sts.norm(M, math.sqrt(Disp))\n",
    "        Prob = [Exp.cdf(centre[0]+0.5*step)]\n",
    "        for i in range(1, len(centre)-1): # функция cdf вычисляет вероятность попадания случайной величины в исселдуемый промежуток\n",
    "            Prob.append(Exp.cdf(centre[i]+0.5*step) - Exp.cdf(centre[i]-0.5*step))\n",
    "        Prob.append(1-Exp.cdf(centre[-1]-0.5*step))\n",
    "    \n",
    "        T = []\n",
    "        for i in range(len(Prob)):\n",
    "            if Prob[i] == 0:\n",
    "                continue\n",
    "            T.append(((kolvo[i]-n*Prob[i])**2)/(n*Prob[i]))\n",
    "        xi_2 = sum(T)\n",
    "        p_value = (sts.chi2(len(kolvo)-3).sf(xi_2))\n",
    "        \n",
    "        p_value_for_hist.append(p_value) # для гистограммы массив из p-значений\n",
    "        \n",
    "        SandPpirs[str(x)][dataset[y]] = round(p_value,3)\n",
    "print(SandPpirs)"
   ]
  },
  {
   "cell_type": "markdown",
   "id": "8f54545c",
   "metadata": {},
   "source": [
    "гистограмма p-значений для реальных данных"
   ]
  },
  {
   "cell_type": "code",
   "execution_count": 41,
   "id": "f26fb2df",
   "metadata": {},
   "outputs": [
    {
     "data": {
      "text/plain": [
       "<AxesSubplot:ylabel='Count'>"
      ]
     },
     "execution_count": 41,
     "metadata": {},
     "output_type": "execute_result"
    },
    {
     "data": {
      "image/png": "[encoded data removed]",
      "text/plain": [
       "<Figure size 432x288 with 1 Axes>"
      ]
     },
     "metadata": {
      "needs_background": "light"
     },
     "output_type": "display_data"
    }
   ],
   "source": [
    "sns.histplot(p_value_for_hist, bins = 20, stat = 'count', kde = True)"
   ]
  },
  {
   "cell_type": "markdown",
   "id": "4caaf731",
   "metadata": {},
   "source": [
    "таблица для 1 процента 5 процентов и 10 процентов p-уровня значимости"
   ]
  },
  {
   "cell_type": "markdown",
   "id": "0ad89024",
   "metadata": {},
   "source": [
    "КОД 9"
   ]
  },
  {
   "cell_type": "code",
   "execution_count": 42,
   "id": "018d8b4c",
   "metadata": {},
   "outputs": [
    {
     "name": "stdout",
     "output_type": "stream",
     "text": [
      "      1%     5%    10%\n",
      "0  0.364  0.257  0.193\n"
     ]
    }
   ],
   "source": [
    "p_val_1 = 0\n",
    "p_val_5 = 0\n",
    "p_val_10 = 0\n",
    "p_val = pd.DataFrame(columns = ['1%','5%','10%'])\n",
    "for i in range(2012,2022):\n",
    "    for j in range(len(dataset)):\n",
    "        if SandPpirs[str(i)][dataset[j]] > 0.01:\n",
    "            p_val_1 += 1\n",
    "        if SandPpirs[str(i)][dataset[j]] > 0.05:\n",
    "            p_val_5 += 1\n",
    "        if SandPpirs[str(i)][dataset[j]] > 0.1:\n",
    "            p_val_10 += 1\n",
    "\n",
    "\n",
    "percents = [round(p_val_1/len(dataset)/(2022-2012),3),round(p_val_5/len(dataset)/(10),3),round(p_val_10/len(dataset)/10,3)]\n",
    "p_val.loc[0] = percents\n",
    "print(p_val)"
   ]
  },
  {
   "cell_type": "code",
   "execution_count": 46,
   "id": "4592f486",
   "metadata": {},
   "outputs": [
    {
     "name": "stdout",
     "output_type": "stream",
     "text": [
      "KstestResult(statistic=0.5, pvalue=6.869300438276986e-33)\n"
     ]
    }
   ],
   "source": [
    "print(sts.kstest(p_value_for_hist,'norm'))"
   ]
  },
  {
   "cell_type": "markdown",
   "id": "69e4ac8d",
   "metadata": {},
   "source": [
    "нахождение p_значений для всех компаний с учетом rsi (среднее скользящее)"
   ]
  },
  {
   "cell_type": "markdown",
   "id": "3729ef37",
   "metadata": {},
   "source": [
    "ТЕСТ"
   ]
  },
  {
   "cell_type": "code",
   "execution_count": 47,
   "id": "fe6a9cb9",
   "metadata": {},
   "outputs": [],
   "source": [
    "dataset = ['AAPL','COP','EBAY','FDX','GM','HAL','HON','HPQ','IBM','INTC','KO','MA','MCD','ORCL']\n",
    "SandP_RSI_all_sma = pd.DataFrame(index = dataset)"
   ]
  },
  {
   "cell_type": "code",
   "execution_count": 48,
   "id": "4c504ff8",
   "metadata": {},
   "outputs": [
    {
     "name": "stdout",
     "output_type": "stream",
     "text": [
      "[None, 0.0, None]\n",
      "[None, 0.0, None]\n",
      "[None, 5.591448944600687e-81, None]\n",
      "[None, 0.0, None]\n",
      "[None, 0.0, None]\n",
      "[nan, 0.0, None]\n",
      "[None, 0.0, None]\n",
      "[None, 0.0, None]\n",
      "[None, 0.0, None]\n",
      "[None, 0.0, None]\n",
      "[None, 0.0, None]\n",
      "[None, 0.0, None]\n",
      "[None, 0.0, None]\n",
      "[None, 0.0, None]\n"
     ]
    }
   ],
   "source": [
    "for x in range(len(dataset)):\n",
    "    df = pd.read_csv('D:/curs/'+dataset[x]+'.csv', delimiter=',')\n",
    "    \n",
    "    rsi_below_30 = []\n",
    "    rsi_between_30_70 = []\n",
    "    rsi_higher_70 = []\n",
    "    for i in range(15,len(df['Date'])):\n",
    "        mas_rsi = []\n",
    "        mas_rsi_up = []\n",
    "        mas_rsi_down = []\n",
    "        for j in range(i-15, i):\n",
    "            mas_rsi.append(df['Close'][j])\n",
    "        #заполняем массив для средних\n",
    "        for j in range(1,len(mas_rsi)):\n",
    "            if mas_rsi[j] > mas_rsi[j-1]:\n",
    "                mas_rsi_up.append(mas_rsi[j])\n",
    "            if mas_rsi[j] < mas_rsi[j-1]:\n",
    "                mas_rsi_down.append(mas_rsi[j])\n",
    "                \n",
    "        #проверим, что в массивах хотябы 1 элемент\n",
    "        if len(mas_rsi_down) == 0:\n",
    "            mas_rsi_down.append(df['Close'][i-14])\n",
    "        if len(mas_rsi_up) == 0:\n",
    "            mas_rsi_up.append(df['Close'][i-14])\n",
    "                \n",
    "        #посчитаем значения для формулы\n",
    "        rsi_up = mean(mas_rsi_up)\n",
    "        rsi_down = mean(mas_rsi_down)\n",
    "        rs = rsi_up/rsi_down\n",
    "    \n",
    "        #формула\n",
    "        rsi = 100-(100/(1+rs))\n",
    "    \n",
    "        #добавление в массив логорифмической доходности\n",
    "        if rsi < 45:\n",
    "            rsi_below_30.append(np.log(df['Close'][i]/df['Open'][i]))\n",
    "        if rsi < 70 and rsi > 30:\n",
    "            rsi_between_30_70.append(np.log(df['Close'][i]/df['Open'][i]))\n",
    "        if rsi > 55:\n",
    "            rsi_higher_70.append(np.log(df['Close'][i]/df['Open'][i]))\n",
    "            \n",
    "    #массив для трех случаев\n",
    "    rsi_massive = [rsi_below_30, rsi_between_30_70, rsi_higher_70]\n",
    "    p_value_massive = []\n",
    "\n",
    "    #посчитаем p-значение для каждой выборки\n",
    "    for u in range(3):\n",
    "\n",
    "        n = len(rsi_massive[u])\n",
    "        if n == 0:\n",
    "            p_value_massive.append(None)\n",
    "            continue\n",
    "            \n",
    "        k = int(math.log2(n)) + 1 # по формуле Стерджесса расчитывает количество интервалов разбиения выборки\n",
    "        step = (max(rsi_massive[u])-min(rsi_massive[u]))/k # шаг разбиения \n",
    "        func = ozenka(rsi_massive[u]) # получение нужный данных при помощи функции ozenka\n",
    "        M, Disp, centre, kolvo = func[0], func[1], func[3], func[2] # считывание необходимых данных для критерия Пирсона\n",
    "        Exp = sts.norm(M, math.sqrt(Disp))\n",
    "        Prob = [Exp.cdf(centre[0]+0.5*step)]\n",
    "        for i in range(1, len(centre)-1): # функция cdf вычисляет вероятность попадания случайной величины в исселдуемый промежуток\n",
    "            Prob.append(Exp.cdf(centre[i]+0.5*step) - Exp.cdf(centre[i]-0.5*step))\n",
    "        Prob.append(1-Exp.cdf(centre[-1]-0.5*step))\n",
    "    \n",
    "        T = []\n",
    "        for i in range(len(Prob)):\n",
    "            if Prob[i] == 0:\n",
    "                continue\n",
    "            T.append(((kolvo[i]-n*Prob[i])**2)/(n*Prob[i]))\n",
    "        xi_2 = sum(T)\n",
    "        p_value = (sts.chi2(len(kolvo)-3).sf(xi_2))\n",
    "        #p_value = round(p_value,3)\n",
    "        p_value_massive.append(p_value)\n",
    "    print(p_value_massive)"
   ]
  },
  {
   "cell_type": "markdown",
   "id": "6b2e0e4a",
   "metadata": {},
   "source": [
    "нахождение p_значений для всех компаний с учетом rsi (Экспоненциальная среднее скользящее)"
   ]
  },
  {
   "cell_type": "markdown",
   "id": "e1791d4b",
   "metadata": {},
   "source": [
    "КОД 10"
   ]
  },
  {
   "cell_type": "code",
   "execution_count": 49,
   "id": "a59fb88d",
   "metadata": {},
   "outputs": [],
   "source": [
    "dataset = ['AAPL','COP','EBAY','FDX','GM','HAL','HON','HPQ','IBM','INTC','KO','MA','MCD','ORCL']\n",
    "SandP_RSI_all_ema = pd.DataFrame(index = dataset)\n",
    "# массив изначальных EMA взятых с сайта TradingView\n",
    "EMA = [14.3, 54.6, 12.8, 83.3, 20.3, 33.8, 51.3, 11.8, 177.2, 24.3, 34.5, 36.9, 98.9, 27]"
   ]
  },
  {
   "cell_type": "code",
   "execution_count": 52,
   "id": "7227d394",
   "metadata": {},
   "outputs": [
    {
     "name": "stdout",
     "output_type": "stream",
     "text": [
      "[0.0, 0.0, 0.0]\n",
      "[None, 0.0, None]\n",
      "[0.0, 0.0, 0.0]\n",
      "[0.0, 0.0, 0.185]\n",
      "[0.34, 0.0, None]\n",
      "[0.058, 0.0, None]\n",
      "[0.0, 0.0, 0.002]\n",
      "[0.193, 0.0, 0.968]\n",
      "[None, 0.0, None]\n",
      "[None, 0.0, 0.343]\n",
      "[None, 0.0, None]\n",
      "[0.0, 0.0, 0.0]\n",
      "[0.5, 0.0, None]\n",
      "[0.334, 0.0, 0.33]\n"
     ]
    }
   ],
   "source": [
    "for x in range(len(dataset)):\n",
    "    df = pd.read_csv('D:/curs/'+dataset[x]+'.csv', delimiter=',')\n",
    "    \n",
    "    rsi_below_30 = []\n",
    "    rsi_between_30_70 = []\n",
    "    rsi_higher_70 = []\n",
    "    for i in range(15,len(df['Date'])):\n",
    "        mas_rsi = []\n",
    "        mas_rsi_up = []\n",
    "        mas_rsi_down = []\n",
    "        for j in range(i-15, i):\n",
    "            mas_rsi.append(df['Close'][j])\n",
    "        #заполняем массив для средних\n",
    "        for j in range(1,len(mas_rsi)):\n",
    "            if mas_rsi[j] > mas_rsi[j-1]:\n",
    "                mas_rsi_up.append(mas_rsi[j])\n",
    "            if mas_rsi[j] < mas_rsi[j-1]:\n",
    "                mas_rsi_down.append(mas_rsi[j])\n",
    "                \n",
    "        #проверим, что в массивах хотябы 1 элемент\n",
    "        if len(mas_rsi_down) == 0:\n",
    "            mas_rsi_down.append(df['Close'][i-14])\n",
    "        if len(mas_rsi_up) == 0:\n",
    "            mas_rsi_up.append(df['Close'][i-14])\n",
    "                \n",
    "        #посчитаем значения для формулы\n",
    "        ema_first_up = EMA[x]\n",
    "        ema_first_down = EMA[x]\n",
    "        \n",
    "        alpha_up = 2/(1+len(mas_rsi_up)) #сглаживающий фактор\n",
    "        alpha_down = 2/(1+len(mas_rsi_down)) #сглаживающий фактор\n",
    "        \n",
    "        ema_up = (df['Close'][i] * alpha_up) + (ema_first_up * (1-alpha_up))\n",
    "        ema_down = (df['Close'][i] * alpha_down) + (ema_first_down * (1-alpha_down))\n",
    "        \n",
    "        rs = ema_up/ema_down\n",
    "        \n",
    "        ema_first_up = ema_up\n",
    "        ema_first_down = ema_down\n",
    "    \n",
    "        #формула\n",
    "        rsi = 100-(100/(1+rs))\n",
    "    \n",
    "        #добавление в массив цен закрытий\n",
    "        if rsi < 40:\n",
    "            rsi_below_30.append(np.log(df['Close'][i]/df['Open'][i]))\n",
    "        if rsi < 70 and rsi > 30:\n",
    "            rsi_between_30_70.append(np.log(df['Close'][i]/df['Open'][i]))\n",
    "        if rsi > 60:\n",
    "            rsi_higher_70.append(np.log(df['Close'][i]/df['Open'][i]))\n",
    "            \n",
    "    #массив для трех случаев\n",
    "    rsi_massive = [rsi_below_30, rsi_between_30_70, rsi_higher_70]\n",
    "    p_value_massive = []\n",
    "    p_val_kolm = []\n",
    "\n",
    "    #посчитаем p-значение для каждой выборки\n",
    "    for u in range(3):\n",
    "\n",
    "        n = len(rsi_massive[u])\n",
    "        if n == 0:\n",
    "            p_value_massive.append(None)\n",
    "            p_val_kolm.append(None)\n",
    "            continue\n",
    "        \n",
    "            \n",
    "        k = int(math.log2(n)) + 1 \n",
    "        step = max(rsi_massive[u])-min(rsi_massive[u])\n",
    "        step = step / k\n",
    "        asdfgh = ozenka(viborka)\n",
    "        M = asdfgh[0]\n",
    "        Disp = asdfgh[1]\n",
    "        kolvo = asdfgh[2]\n",
    "        centre = asdfgh[3]\n",
    "        Exp = sts.norm(M, math.sqrt(Disp))\n",
    "        Prob = [Exp.cdf(centre[0]+0.5*step)]\n",
    "        for i in range(1, len(centre)-1): # функция cdf вычисляет вероятность попадания случайной величины в исселдуемый промежуток\n",
    "            Prob.append(Exp.cdf(centre[i]+0.5*step) - Exp.cdf(centre[i]-0.5*step))\n",
    "        Prob.append(1-Exp.cdf(centre[-1]-0.5*step))\n",
    "    \n",
    "        T = []\n",
    "        for i in range(len(Prob)):\n",
    "            if Prob[i] == 0:\n",
    "                continue\n",
    "            T.append(((kolvo[i]-n*Prob[i])**2)/(n*Prob[i]))\n",
    "        xi_2 = sum(T)\n",
    "        p_value = (sts.chi2(len(kolvo)-3).sf(xi_2))\n",
    "        p_value = round(p_value,3)\n",
    "        p_value_massive.append(p_value)\n",
    "        \n",
    "        #критерий Колмогорова\n",
    "        p_val_kolm.append(round(sts.kstest(rsi_massive[u],'norm')[1],3))\n",
    "    #print(p_value_massive)\n",
    "    print(p_val_kolm)"
   ]
  }
 ],
 "metadata": {
  "kernelspec": {
   "display_name": "Python 3 (ipykernel)",
   "language": "python",
   "name": "python3"
  },
  "language_info": {
   "codemirror_mode": {
    "name": "ipython",
    "version": 3
   },
   "file_extension": ".py",
   "mimetype": "text/x-python",
   "name": "python",
   "nbconvert_exporter": "python",
   "pygments_lexer": "ipython3",
   "version": "3.9.7"
  }
 },
 "nbformat": 4,
 "nbformat_minor": 5
}
